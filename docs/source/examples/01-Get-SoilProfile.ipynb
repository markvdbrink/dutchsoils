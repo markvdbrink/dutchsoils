{
 "cells": [
  {
   "cell_type": "markdown",
   "id": "3066ffc6",
   "metadata": {},
   "source": [
    "# 1. Get a SoilProfile"
   ]
  },
  {
   "cell_type": "code",
   "execution_count": 1,
   "id": "0",
   "metadata": {},
   "outputs": [],
   "source": [
    "import dutchsoils as ds"
   ]
  },
  {
   "cell_type": "markdown",
   "id": "1eb76001",
   "metadata": {},
   "source": [
    "## 1.1. Get soil profile(s) by index number(s)"
   ]
  },
  {
   "cell_type": "code",
   "execution_count": 10,
   "id": "33825e47",
   "metadata": {},
   "outputs": [
    {
     "data": {
      "text/plain": [
       "'Hoge bruine enkeerdgronden; lemig fijn zand'"
      ]
     },
     "execution_count": 10,
     "metadata": {},
     "output_type": "execute_result"
    }
   ],
   "source": [
    "ds.SoilProfile.from_index(9028040).name"
   ]
  },
  {
   "cell_type": "code",
   "execution_count": null,
   "id": "cedcc38d",
   "metadata": {},
   "outputs": [
    {
     "name": "stdout",
     "output_type": "stream",
     "text": [
      "['Koopveengronden op bosveen (of eutroof broekveen)', 'Moerige podzolgronden met een zavel- of een kleidek en een moerige tussenlaag', 'Loopodzolgronden; lemig fijn zand']\n"
     ]
    }
   ],
   "source": [
    "sps = ds.SoilProfile.from_index([1010, 2010])\n",
    "print([sp.name for sp in sps])"
   ]
  },
  {
   "cell_type": "markdown",
   "id": "5c662f42",
   "metadata": {},
   "source": [
    "## 1.2. Get soil profile(s) by soil code(s)"
   ]
  },
  {
   "cell_type": "code",
   "execution_count": 11,
   "id": "d6231900",
   "metadata": {},
   "outputs": [
    {
     "data": {
      "text/plain": [
       "'Veldpodzolgronden; leemarm en zwak lemig fijn zand'"
      ]
     },
     "execution_count": 11,
     "metadata": {},
     "output_type": "execute_result"
    }
   ],
   "source": [
    "ds.SoilProfile.from_code(\"Hn21\").name"
   ]
  },
  {
   "cell_type": "code",
   "execution_count": 19,
   "id": "5e31feab",
   "metadata": {},
   "outputs": [
    {
     "name": "stdout",
     "output_type": "stream",
     "text": [
      "['Moerige eerdgronden met een zanddek en een moerige tussenlaag op zand', 'Gooreerdgronden; lemig fijn zand']\n"
     ]
    }
   ],
   "source": [
    "sps = ds.SoilProfile.from_code([\"zWz\", \"pZn23t\"])\n",
    "print([sp.name for sp in sps])"
   ]
  },
  {
   "cell_type": "markdown",
   "id": "e39b3593",
   "metadata": {},
   "source": [
    "## 1.3. Get soil profile(s) from BOFEK2020 clustering number(s)"
   ]
  },
  {
   "cell_type": "code",
   "execution_count": 12,
   "id": "2d788313",
   "metadata": {},
   "outputs": [
    {
     "data": {
      "text/plain": [
       "'Waardveengronden op zand, beginnend ondieper dan 1.2 m'"
      ]
     },
     "execution_count": 12,
     "metadata": {},
     "output_type": "execute_result"
    }
   ],
   "source": [
    "ds.SoilProfile.from_bofekcluster(1008).name"
   ]
  },
  {
   "cell_type": "code",
   "execution_count": 20,
   "id": "7e2b8ce9",
   "metadata": {},
   "outputs": [
    {
     "name": "stdout",
     "output_type": "stream",
     "text": [
      "['Koopveengronden op zeggeveen, rietzeggeveen of (mesotroof) broekveen', 'Moerige podzolgronden met een humushoudend zanddek en een moerige tussenlaag']\n"
     ]
    }
   ],
   "source": [
    "sps = ds.SoilProfile.from_bofekcluster([1001, 2001])\n",
    "print([sp.name for sp in sps])"
   ]
  },
  {
   "cell_type": "markdown",
   "id": "08fd7ef1",
   "metadata": {},
   "source": [
    "## 1.4. Get soil profile(s) from coordinates"
   ]
  },
  {
   "cell_type": "code",
   "execution_count": 18,
   "id": "95ab4406",
   "metadata": {},
   "outputs": [
    {
     "data": {
      "text/plain": [
       "'Kalkloze poldervaaggronden; zware klei, profielverloop 3, of 3 en 4'"
      ]
     },
     "execution_count": 18,
     "metadata": {},
     "output_type": "execute_result"
    }
   ],
   "source": [
    "ds.SoilProfile.from_location(\n",
    "    x=171321.2,\n",
    "    y=442308.1,\n",
    "    crs=\"EPSG:28992\",\n",
    ").name"
   ]
  },
  {
   "cell_type": "code",
   "execution_count": 16,
   "id": "6a7f4da5",
   "metadata": {},
   "outputs": [
    {
     "name": "stdout",
     "output_type": "stream",
     "text": [
      "['Kalkloze poldervaaggronden; zware klei, profielverloop 3, of 3 en 4', 'Holtpodzolgronden; grof zand']\n"
     ]
    }
   ],
   "source": [
    "sps = ds.SoilProfile.from_location(\n",
    "    x=[171321.2, 169867.8],\n",
    "    y=[442308.1, 440914.6],\n",
    "    crs=\"EPSG:28992\",\n",
    ")\n",
    "print([sp.name for sp in sps])"
   ]
  }
 ],
 "metadata": {
  "kernelspec": {
   "display_name": ".venv",
   "language": "python",
   "name": "python3"
  },
  "language_info": {
   "codemirror_mode": {
    "name": "ipython",
    "version": 3
   },
   "file_extension": ".py",
   "mimetype": "text/x-python",
   "name": "python",
   "nbconvert_exporter": "python",
   "pygments_lexer": "ipython3",
   "version": "3.13.3"
  }
 },
 "nbformat": 4,
 "nbformat_minor": 5
}
